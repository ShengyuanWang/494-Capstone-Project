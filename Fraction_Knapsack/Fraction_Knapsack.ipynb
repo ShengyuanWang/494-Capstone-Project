{
 "cells": [
  {
   "cell_type": "code",
   "execution_count": 1,
   "id": "93448a20",
   "metadata": {},
   "outputs": [],
   "source": [
    "# enable reading from csv\n",
    "import csv"
   ]
  },
  {
   "cell_type": "code",
   "execution_count": 2,
   "id": "799763be",
   "metadata": {},
   "outputs": [],
   "source": [
    "# create a class implementing fractional knapsack problem\n",
    "class Itemvalue:\n",
    "    def __init__(self, weight, value, item):\n",
    "        self.weight = weight\n",
    "        self.value = value\n",
    "        self.item = item\n",
    "        self.cost = value // weight\n",
    "    def __lt__(self, other):\n",
    "        return self.cost < other.cost"
   ]
  },
  {
   "cell_type": "code",
   "execution_count": 8,
   "id": "d31f7b6c",
   "metadata": {},
   "outputs": [],
   "source": [
    "# problem solving part\n",
    "def Knapsack(weights, profits, items, capacity):\n",
    "    # initiailize values and put them to null\n",
    "    items_list = []\n",
    "    knapsack_value = 0\n",
    "    knapsack_weights = []\n",
    "    knapsack = []\n",
    "    for i in range(len(weights)):\n",
    "        items_list.append(Itemvalue(weights[i], profits[i], items[i]))\n",
    "    # sort items by value\n",
    "    items_list.sort(reverse = True)\n",
    "    \n",
    "    # handle whole items first and then partial items\n",
    "    for item in items_list:\n",
    "        if capacity - item.weight >= 0:\n",
    "            capacity -= item.weight\n",
    "            knapsack_value += item.value\n",
    "            knapsack.append(item.item)\n",
    "            knapsack_weights.append(item.weight)\n",
    "        else:\n",
    "            fraction = capacity / item.weight\n",
    "            knapsack_value += item_value * fraction\n",
    "            knapsack.append(item.item)\n",
    "            knapsack_weights.append(round(fraction, 2))\n",
    "            capacity -= int(item.weight * fraction)\n",
    "            break\n",
    "    return knapsack, knapsack_weights, round(knapsack_value, 2)"
   ]
  },
  {
   "cell_type": "code",
   "execution_count": 9,
   "id": "c4a58b1d",
   "metadata": {},
   "outputs": [
    {
     "name": "stdout",
     "output_type": "stream",
     "text": [
      "---------------------------------------------------------------------------\n",
      "\tMark's Unbelievable Fractional Knapsack Results:\n",
      "\n",
      "\tCapacity of the Knapsack:  1000\n",
      "\tItems in Knapsack:  'F', 'A', 'C', 'E', 'B', 'D', 'G'\n",
      "\tCorresponding Weights of Items:  20, 50, 30, 50, 60, 80, 70\n",
      "\tMaximum Profit in Knapsack:  1320\n",
      "---------------------------------------------------------------------------\n"
     ]
    }
   ],
   "source": [
    "\n",
    "# This is the driver code. -------------------------------------------------------------------\n",
    "if __name__ == \"__main__\":\n",
    "\n",
    "    # This opens the input file as a csv.\n",
    "    input_file = open('input.txt', 'r')\n",
    "    reader = csv.reader(input_file)\n",
    "\n",
    "    # These are the necessary variables.\n",
    "    values = []\n",
    "    knapsack_capacity = []\n",
    "    item_types = []\n",
    "    item_weights = []\n",
    "    item_profits = []\n",
    "    \n",
    "    # This reads in the values.\n",
    "    for row in reader:\n",
    "        values.append(row)\n",
    "    \n",
    "    # This maps the values in the input file to the variables.\n",
    "    knapsack_capacity = values[0]\n",
    "    knapsack_capacity = list(map(int, knapsack_capacity))\n",
    "    item_types = values[1]\n",
    "    item_weights = values[2]\n",
    "    item_weights = list(map(int, item_weights))\n",
    "    item_profits = values[3]\n",
    "    item_profits = list(map(int, item_profits))\n",
    "\n",
    "    # This invokes the magic.\n",
    "    knapsack_items, knapsack_weights, knapsack_value =  \\\n",
    "        Knapsack(\\\n",
    "                    item_weights, \\\n",
    "                    item_profits, \\\n",
    "                    item_types, \\\n",
    "                    knapsack_capacity[0] \\\n",
    "                    )\n",
    "\n",
    "    # This it the console output.\n",
    "    print(\"---------------------------------------------------------------------------\")\n",
    "    print(\"\\tMark's Unbelievable Fractional Knapsack Results:\\n\")\n",
    "    print(\"\\tCapacity of the Knapsack: \", str(knapsack_capacity)[1:-1])\n",
    "    print(\"\\tItems in Knapsack: \", str(knapsack_items)[1:-1])\n",
    "    print(\"\\tCorresponding Weights of Items: \", str(knapsack_weights)[1:-1])\n",
    "    print(\"\\tMaximum Profit in Knapsack: \", knapsack_value)\n",
    "    print(\"---------------------------------------------------------------------------\")"
   ]
  },
  {
   "cell_type": "code",
   "execution_count": null,
   "id": "e820b9f6",
   "metadata": {},
   "outputs": [],
   "source": []
  },
  {
   "cell_type": "code",
   "execution_count": null,
   "id": "1cb87aad",
   "metadata": {},
   "outputs": [],
   "source": []
  },
  {
   "cell_type": "code",
   "execution_count": null,
   "id": "09c287d0",
   "metadata": {},
   "outputs": [],
   "source": []
  }
 ],
 "metadata": {
  "kernelspec": {
   "display_name": "Python 3",
   "language": "python",
   "name": "python3"
  },
  "language_info": {
   "codemirror_mode": {
    "name": "ipython",
    "version": 3
   },
   "file_extension": ".py",
   "mimetype": "text/x-python",
   "name": "python",
   "nbconvert_exporter": "python",
   "pygments_lexer": "ipython3",
   "version": "3.8.8"
  }
 },
 "nbformat": 4,
 "nbformat_minor": 5
}
