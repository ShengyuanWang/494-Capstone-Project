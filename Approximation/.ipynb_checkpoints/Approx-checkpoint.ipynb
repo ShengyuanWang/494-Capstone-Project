{
 "cells": [
  {
   "cell_type": "code",
   "execution_count": null,
   "id": "bae38b73",
   "metadata": {},
   "outputs": [],
   "source": [
    "def approx_alg(w, v, W):\n",
    "    ordered = []\n",
    "    for vi, wi in zip(v, w):\n",
    "        ordered.append((vi/wi, vi, wi))\n",
    "    ordered.sort(reverse=True)\n",
    "    S1 = []\n",
    "    weight = 0\n",
    "    val = 0\n",
    "    for _, vi, wi in ordered:\n",
    "        if weight + wi <= W:\n",
    "            S1.append((vi, wi))\n",
    "            weight += wi\n",
    "            val += vi\n",
    "        else:\n",
    "            S2 = [(vi, wi)]\n",
    "            val2 = vi\n",
    "            if val > val2:\n",
    "                return S1, val\n",
    "            else:\n",
    "                return S2, val2"
   ]
  }
 ],
 "metadata": {
  "kernelspec": {
   "display_name": "Python 3",
   "language": "python",
   "name": "python3"
  },
  "language_info": {
   "codemirror_mode": {
    "name": "ipython",
    "version": 3
   },
   "file_extension": ".py",
   "mimetype": "text/x-python",
   "name": "python",
   "nbconvert_exporter": "python",
   "pygments_lexer": "ipython3",
   "version": "3.8.8"
  }
 },
 "nbformat": 4,
 "nbformat_minor": 5
}
